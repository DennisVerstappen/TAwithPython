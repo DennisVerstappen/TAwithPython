{
 "cells": [
  {
   "cell_type": "code",
   "execution_count": 62,
   "metadata": {
    "collapsed": true
   },
   "outputs": [],
   "source": [
    "from poloniex_wrapper import poloniex, createTimeStamp\n",
    "from urllib.request import urlopen\n",
    "import json\n",
    "import matplotlib.pyplot as plt\n"
   ]
  },
  {
   "cell_type": "heading",
   "level": 1,
   "metadata": {},
   "source": [
    "Poloniex ticker"
   ]
  },
  {
   "cell_type": "code",
   "execution_count": 65,
   "metadata": {
    "collapsed": true
   },
   "outputs": [],
   "source": [
    "exchange = poloniex(APIKey='test', Secret='test')\n",
    "ticker_data = exchange.returnTicker()\n",
    "currency_pairs = list(ticker_data.keys())"
   ]
  },
  {
   "cell_type": "code",
   "execution_count": 74,
   "metadata": {
    "collapsed": true
   },
   "outputs": [],
   "source": [
    "ETH_ticker = ticker_data[\"BTC_ETH\"]\n",
    "lowest_ask_poloniex = float(ETH_ticker[\"lowestAsk\"])\n",
    "highest_bid_poloniex = float(ETH_ticker[\"highestBid\"])\n",
    "spread_ETH_poloniex = lowest_ask_poloniex - highest_bid_poloniex\n"
   ]
  },
  {
   "cell_type": "code",
   "execution_count": 75,
   "metadata": {
    "collapsed": true
   },
   "outputs": [
    {
     "name": "stdout",
     "output_type": "stream",
     "text": [
      "spread on ETH in dollars:  0.056789765143991394\n"
     ]
    }
   ],
   "source": [
    "BTC_value_poloniex = ticker_data[\"USDT_BTC\"][\"last\"]\n",
    "print(\"spread on ETH in dollars: \", float(BTC_value_poloniex)*spread_ETH_poloniex)"
   ]
  },
  {
   "cell_type": "heading",
   "level": 1,
   "metadata": {},
   "source": [
    "Bittrex ticker "
   ]
  },
  {
   "cell_type": "code",
   "execution_count": 77,
   "metadata": {},
   "outputs": [
    {
     "name": "stdout",
     "output_type": "stream",
     "text": [
      "{'success': True, 'message': '', 'result': {'Bid': 0.03482255, 'Ask': 0.03485987, 'Last': 0.034859}}\n"
     ]
    }
   ],
   "source": [
    "# get ticker data\n",
    "endpoint = \"https://api.bittrex.com/api/v1.1/\"\n",
    "ticker_endpoint = \"/public/getticker?market=\"\n",
    "currency_pair = \"BTC-ETH\"\n",
    "ret = urlopen(endpoint + ticker_endpoint + currency_pair)\n",
    "ticker_data_bittrex = json.loads(ret.read())\n",
    "print(ticker_data_bittrex)\n"
   ]
  },
  {
   "cell_type": "code",
   "execution_count": 80,
   "metadata": {},
   "outputs": [
    {
     "name": "stdout",
     "output_type": "stream",
     "text": [
      "3.732000000000041e-05\n"
     ]
    }
   ],
   "source": [
    "#compute bid and ask\n",
    "lowest_ask_bittrex = float(ticker_data_bittrex[\"result\"][\"Ask\"])\n",
    "highest_bid_bittrex = float(ticker_data_bittrex[\"result\"][\"Bid\"])\n",
    "spread_ETH_bittrex = lowest_ask_bittrex - highest_bid_bittrex\n",
    "print(spread_ETH_bittrex)"
   ]
  },
  {
   "cell_type": "heading",
   "level": 1,
   "metadata": {},
   "source": [
    "Calculate differences"
   ]
  },
  {
   "cell_type": "code",
   "execution_count": 81,
   "metadata": {},
   "outputs": [
    {
     "name": "stdout",
     "output_type": "stream",
     "text": [
      "ask difference on ETH in dollars:  0.09219457593490082\n",
      "bid difference on ETH in dollars:  0.009458729810029496\n"
     ]
    }
   ],
   "source": [
    "# calculate differences in dollars according to Poloniex value\n",
    "difference_ask = lowest_ask_bittrex - lowest_ask_poloniex\n",
    "difference_bid = highest_bid_bittrex - highest_bid_poloniex\n",
    "print(\"ask difference on ETH in dollars: \", float(BTC_value_poloniex)*difference_ask)\n",
    "print(\"bid difference on ETH in dollars: \", float(BTC_value_poloniex)*difference_bid)"
   ]
  },
  {
   "cell_type": "code",
   "execution_count": 83,
   "metadata": {
    "collapsed": true
   },
   "outputs": [
    {
     "name": "stdout",
     "output_type": "stream",
     "text": [
      "[0.03485987, 0.03482255, 0.03483521, 0.03482002]\n"
     ]
    },
    {
     "data": {
      "image/png": "[encoded data removed]",
      "text/plain": [
       "<Figure size 432x288 with 1 Axes>"
      ]
     },
     "metadata": {},
     "output_type": "display_data"
    }
   ],
   "source": [
    "y = [lowest_ask_bittrex, highest_bid_bittrex, lowest_ask_poloniex, highest_bid_poloniex]\n",
    "print(y)\n",
    "x = [\"Bittrex\", \"Bittrex\", \"Poloniex\", \"Poloniex\"]\n",
    "color = [\"green\" \"red\", \"green\", \"red\"]\n",
    "\n",
    "fig = plt.figure()\n",
    "ax = fig.add_subplot(111)\n",
    "ax.scatter(x, y, color=\"green\", marker='^')\n",
    "ax.set_ylim(0.03479, 0.0349)\n",
    "ax.tick_params(axis='both', colors='white')\n",
    "plt.show()"
   ]
  },
  {
   "cell_type": "code",
   "execution_count": null,
   "metadata": {
    "collapsed": true
   },
   "outputs": [],
   "source": []
  }
 ],
 "metadata": {
  "kernelspec": {
   "display_name": "Python 3",
   "language": "python",
   "name": "python3"
  },
  "language_info": {
   "codemirror_mode": {
    "name": "ipython",
    "version": 3
   },
   "file_extension": ".py",
   "mimetype": "text/x-python",
   "name": "python",
   "nbconvert_exporter": "python",
   "pygments_lexer": "ipython3",
   "version": "3.6.3"
  }
 },
 "nbformat": 4,
 "nbformat_minor": 1
}
